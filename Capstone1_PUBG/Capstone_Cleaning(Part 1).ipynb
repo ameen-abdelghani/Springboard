{
 "cells": [
  {
   "attachments": {
    "s-l300.jpg": {
     "image/jpeg": "[encoded data removed]"
    }
   },
   "cell_type": "markdown",
   "metadata": {},
   "source": [
    "![s-l300.jpg](attachment:s-l300.jpg)"
   ]
  },
  {
   "cell_type": "markdown",
   "metadata": {},
   "source": [
    "# <font color=blue>Players Unknown Battleground Capstone Project 1 </font>\n",
    "### Objective: Analyze the variables highly correlated with winning a match\n",
    "    \n",
    "This notebook contains my first steps in uploading the data for cleaning and high level analysis"
   ]
  },
  {
   "cell_type": "code",
   "execution_count": 1,
   "metadata": {},
   "outputs": [],
   "source": [
    "import pandas as pd\n",
    "import numpy as np"
   ]
  },
  {
   "cell_type": "code",
   "execution_count": 24,
   "metadata": {},
   "outputs": [],
   "source": [
    "a = pd.read_csv('agg_match_stats_0.csv', nrows=6000)\n",
    "b = pd.read_csv('agg_match_stats_1.csv', nrows=6000)\n",
    "c = pd.read_csv('agg_match_stats_2.csv', nrows=6000)\n",
    "d = pd.read_csv('agg_match_stats_3.csv', nrows=6000)\n",
    "e = pd.read_csv('agg_match_stats_4.csv', nrows=6000)\n"
   ]
  },
  {
   "cell_type": "code",
   "execution_count": 38,
   "metadata": {},
   "outputs": [],
   "source": [
    "f = pd.read_csv('agg_match_stats_0.csv')"
   ]
  },
  {
   "cell_type": "code",
   "execution_count": 3,
   "metadata": {},
   "outputs": [
    {
     "data": {
      "text/plain": [
       "(6000, 15)"
      ]
     },
     "execution_count": 3,
     "metadata": {},
     "output_type": "execute_result"
    }
   ],
   "source": [
    "a.shape\n",
    "#Sanity check"
   ]
  },
  {
   "cell_type": "code",
   "execution_count": 30,
   "metadata": {},
   "outputs": [],
   "source": [
    "a = a[['player_dist_walk', 'player_dmg', 'team_placement', 'player_dist_ride', 'player_survive_time', 'game_size', 'party_size', 'player_kills']]\n",
    "b = b[['player_dist_walk', 'player_dmg', 'team_placement', 'player_dist_ride', 'player_survive_time', 'game_size', 'party_size', 'player_kills']]\n",
    "c = c[['player_dist_walk', 'player_dmg', 'team_placement', 'player_dist_ride', 'player_survive_time', 'game_size', 'party_size', 'player_kills']]\n",
    "d = d[['player_dist_walk', 'player_dmg', 'team_placement', 'player_dist_ride', 'player_survive_time', 'game_size', 'party_size', 'player_kills']]\n",
    "e = e[['player_dist_walk', 'player_dmg', 'team_placement', 'player_dist_ride', 'player_survive_time', 'game_size', 'party_size', 'player_kills']]\n",
    "\n",
    "#Reduced the datasets to only the columns of interest. Did them individually because concating first took too much memory originally."
   ]
  },
  {
   "cell_type": "code",
   "execution_count": 31,
   "metadata": {
    "scrolled": true
   },
   "outputs": [
    {
     "data": {
      "text/plain": [
       "(30000, 8)"
      ]
     },
     "execution_count": 31,
     "metadata": {},
     "output_type": "execute_result"
    }
   ],
   "source": [
    "df = pd.concat([a, b, c, d, e], ignore_index=True) #concat the datasets into one\n",
    "df.shape"
   ]
  },
  {
   "cell_type": "code",
   "execution_count": 32,
   "metadata": {},
   "outputs": [
    {
     "data": {
      "text/html": [
       "<div>\n",
       "<style scoped>\n",
       "    .dataframe tbody tr th:only-of-type {\n",
       "        vertical-align: middle;\n",
       "    }\n",
       "\n",
       "    .dataframe tbody tr th {\n",
       "        vertical-align: top;\n",
       "    }\n",
       "\n",
       "    .dataframe thead th {\n",
       "        text-align: right;\n",
       "    }\n",
       "</style>\n",
       "<table border=\"1\" class=\"dataframe\">\n",
       "  <thead>\n",
       "    <tr style=\"text-align: right;\">\n",
       "      <th></th>\n",
       "      <th>player_dist_walk</th>\n",
       "      <th>player_dmg</th>\n",
       "      <th>team_placement</th>\n",
       "      <th>player_dist_ride</th>\n",
       "      <th>player_survive_time</th>\n",
       "      <th>game_size</th>\n",
       "      <th>party_size</th>\n",
       "      <th>player_kills</th>\n",
       "    </tr>\n",
       "  </thead>\n",
       "  <tbody>\n",
       "    <tr>\n",
       "      <th>count</th>\n",
       "      <td>30000.000000</td>\n",
       "      <td>30000.000000</td>\n",
       "      <td>30000.000000</td>\n",
       "      <td>30000.000000</td>\n",
       "      <td>30000.000000</td>\n",
       "      <td>30000.000000</td>\n",
       "      <td>30000.000000</td>\n",
       "      <td>30000.000000</td>\n",
       "    </tr>\n",
       "    <tr>\n",
       "      <th>mean</th>\n",
       "      <td>1280.753552</td>\n",
       "      <td>124.498600</td>\n",
       "      <td>23.686400</td>\n",
       "      <td>1170.505562</td>\n",
       "      <td>786.328472</td>\n",
       "      <td>45.676133</td>\n",
       "      <td>2.846333</td>\n",
       "      <td>0.885167</td>\n",
       "    </tr>\n",
       "    <tr>\n",
       "      <th>std</th>\n",
       "      <td>4606.184499</td>\n",
       "      <td>170.818334</td>\n",
       "      <td>20.212021</td>\n",
       "      <td>1980.748483</td>\n",
       "      <td>578.099957</td>\n",
       "      <td>25.478699</td>\n",
       "      <td>1.261443</td>\n",
       "      <td>1.566374</td>\n",
       "    </tr>\n",
       "    <tr>\n",
       "      <th>min</th>\n",
       "      <td>0.000000</td>\n",
       "      <td>0.000000</td>\n",
       "      <td>1.000000</td>\n",
       "      <td>0.000000</td>\n",
       "      <td>61.914000</td>\n",
       "      <td>13.000000</td>\n",
       "      <td>1.000000</td>\n",
       "      <td>0.000000</td>\n",
       "    </tr>\n",
       "    <tr>\n",
       "      <th>25%</th>\n",
       "      <td>205.943852</td>\n",
       "      <td>0.000000</td>\n",
       "      <td>9.000000</td>\n",
       "      <td>0.000000</td>\n",
       "      <td>247.080750</td>\n",
       "      <td>27.000000</td>\n",
       "      <td>2.000000</td>\n",
       "      <td>0.000000</td>\n",
       "    </tr>\n",
       "    <tr>\n",
       "      <th>50%</th>\n",
       "      <td>836.330885</td>\n",
       "      <td>78.000000</td>\n",
       "      <td>19.000000</td>\n",
       "      <td>0.000000</td>\n",
       "      <td>645.712500</td>\n",
       "      <td>29.000000</td>\n",
       "      <td>4.000000</td>\n",
       "      <td>0.000000</td>\n",
       "    </tr>\n",
       "    <tr>\n",
       "      <th>75%</th>\n",
       "      <td>2045.518065</td>\n",
       "      <td>176.000000</td>\n",
       "      <td>29.000000</td>\n",
       "      <td>1939.241667</td>\n",
       "      <td>1295.607000</td>\n",
       "      <td>50.000000</td>\n",
       "      <td>4.000000</td>\n",
       "      <td>1.000000</td>\n",
       "    </tr>\n",
       "    <tr>\n",
       "      <th>max</th>\n",
       "      <td>712870.563000</td>\n",
       "      <td>3956.000000</td>\n",
       "      <td>99.000000</td>\n",
       "      <td>100982.023000</td>\n",
       "      <td>2213.356000</td>\n",
       "      <td>99.000000</td>\n",
       "      <td>4.000000</td>\n",
       "      <td>42.000000</td>\n",
       "    </tr>\n",
       "  </tbody>\n",
       "</table>\n",
       "</div>"
      ],
      "text/plain": [
       "       player_dist_walk    player_dmg  team_placement  player_dist_ride  \\\n",
       "count      30000.000000  30000.000000    30000.000000      30000.000000   \n",
       "mean        1280.753552    124.498600       23.686400       1170.505562   \n",
       "std         4606.184499    170.818334       20.212021       1980.748483   \n",
       "min            0.000000      0.000000        1.000000          0.000000   \n",
       "25%          205.943852      0.000000        9.000000          0.000000   \n",
       "50%          836.330885     78.000000       19.000000          0.000000   \n",
       "75%         2045.518065    176.000000       29.000000       1939.241667   \n",
       "max       712870.563000   3956.000000       99.000000     100982.023000   \n",
       "\n",
       "       player_survive_time     game_size    party_size  player_kills  \n",
       "count         30000.000000  30000.000000  30000.000000  30000.000000  \n",
       "mean            786.328472     45.676133      2.846333      0.885167  \n",
       "std             578.099957     25.478699      1.261443      1.566374  \n",
       "min              61.914000     13.000000      1.000000      0.000000  \n",
       "25%             247.080750     27.000000      2.000000      0.000000  \n",
       "50%             645.712500     29.000000      4.000000      0.000000  \n",
       "75%            1295.607000     50.000000      4.000000      1.000000  \n",
       "max            2213.356000     99.000000      4.000000     42.000000  "
      ]
     },
     "execution_count": 32,
     "metadata": {},
     "output_type": "execute_result"
    }
   ],
   "source": [
    "df.describe() #Must try and figure out the unit of time in player_survive_time"
   ]
  },
  {
   "cell_type": "code",
   "execution_count": 7,
   "metadata": {},
   "outputs": [],
   "source": [
    "df = df[(df['player_dist_walk'] > 5)] \n",
    "df = df[(df['player_survive_time'] > 10)]\n",
    "\n",
    "# Reduced the dataset to players that walked at least 5 meters\n",
    "# Players that didnt manage to move are not worth analysis and were likely afk\n",
    "# Player survival time seems to be measured by seconds "
   ]
  },
  {
   "cell_type": "code",
   "execution_count": 8,
   "metadata": {},
   "outputs": [],
   "source": [
    "df['player_survive_time'] = df['player_survive_time'] // 60 \n",
    "#divide the time by 60 to convert them from seconds into minutes rounded."
   ]
  },
  {
   "cell_type": "code",
   "execution_count": 9,
   "metadata": {},
   "outputs": [],
   "source": [
    "df.party_size = df.party_size.astype('category') #Reduce memory usage"
   ]
  },
  {
   "cell_type": "code",
   "execution_count": 10,
   "metadata": {},
   "outputs": [],
   "source": [
    "df_solo = df[(df['party_size'] == 1)]\n",
    "df_duo = df[(df['party_size'] == 2)]\n",
    "df_squad = df[(df['party_size'] == 4)]\n",
    "\n",
    "#created seperate dataframes for solo, duo, and squad game modes respectively\n",
    "#sorted datasets by how well they placed in a match"
   ]
  },
  {
   "cell_type": "markdown",
   "metadata": {},
   "source": [
    "**Players Unknown Battleground has 3 party mode types: Solo, Duo, and Squad. It will be worth noting if we see suprising differences between game modes**"
   ]
  },
  {
   "cell_type": "code",
   "execution_count": 11,
   "metadata": {},
   "outputs": [
    {
     "data": {
      "text/plain": [
       "1    5931\n",
       "4       0\n",
       "2       0\n",
       "Name: party_size, dtype: int64"
      ]
     },
     "execution_count": 11,
     "metadata": {},
     "output_type": "execute_result"
    }
   ],
   "source": [
    "df_solo.party_size.value_counts(dropna=False) #inspecting calculations worked correctly "
   ]
  },
  {
   "cell_type": "code",
   "execution_count": 12,
   "metadata": {},
   "outputs": [],
   "source": [
    "df_solo = df_solo[(df_solo['team_placement'] <= 50)].set_index('team_placement').sort_values('team_placement')\n",
    "df_duo = df_duo[(df_duo['team_placement'] <= 25)].set_index('team_placement').sort_values('team_placement')\n",
    "df_squad = df_squad[df_squad['team_placement'] <= 13].set_index('team_placement').sort_values('team_placement')\n"
   ]
  },
  {
   "cell_type": "markdown",
   "metadata": {},
   "source": [
    "**Only interested in top half of players in a match. In a typical match the first half of teams die off in just a few minutes. This is more based off of luck of how / where you land, as well as shooting skills. For this analysis I'm am more interested in the long term variables of a match to see if a strategy can be determined / if there is a strong correlation with certain variables and winning fist place.**"
   ]
  },
  {
   "cell_type": "code",
   "execution_count": 13,
   "metadata": {},
   "outputs": [
    {
     "data": {
      "text/html": [
       "<div>\n",
       "<style scoped>\n",
       "    .dataframe tbody tr th:only-of-type {\n",
       "        vertical-align: middle;\n",
       "    }\n",
       "\n",
       "    .dataframe tbody tr th {\n",
       "        vertical-align: top;\n",
       "    }\n",
       "\n",
       "    .dataframe thead th {\n",
       "        text-align: right;\n",
       "    }\n",
       "</style>\n",
       "<table border=\"1\" class=\"dataframe\">\n",
       "  <thead>\n",
       "    <tr style=\"text-align: right;\">\n",
       "      <th></th>\n",
       "      <th>player_dist_walk</th>\n",
       "      <th>player_dmg</th>\n",
       "      <th>player_dist_ride</th>\n",
       "      <th>player_survive_time</th>\n",
       "      <th>game_size</th>\n",
       "      <th>party_size</th>\n",
       "      <th>player_kills</th>\n",
       "    </tr>\n",
       "    <tr>\n",
       "      <th>team_placement</th>\n",
       "      <th></th>\n",
       "      <th></th>\n",
       "      <th></th>\n",
       "      <th></th>\n",
       "      <th></th>\n",
       "      <th></th>\n",
       "      <th></th>\n",
       "    </tr>\n",
       "  </thead>\n",
       "  <tbody>\n",
       "    <tr>\n",
       "      <th>1</th>\n",
       "      <td>1734.04260</td>\n",
       "      <td>616</td>\n",
       "      <td>989.995700</td>\n",
       "      <td>31.0</td>\n",
       "      <td>97</td>\n",
       "      <td>1</td>\n",
       "      <td>7</td>\n",
       "    </tr>\n",
       "    <tr>\n",
       "      <th>1</th>\n",
       "      <td>5994.73633</td>\n",
       "      <td>508</td>\n",
       "      <td>5066.445310</td>\n",
       "      <td>36.0</td>\n",
       "      <td>97</td>\n",
       "      <td>1</td>\n",
       "      <td>5</td>\n",
       "    </tr>\n",
       "    <tr>\n",
       "      <th>1</th>\n",
       "      <td>4062.22339</td>\n",
       "      <td>488</td>\n",
       "      <td>2261.395260</td>\n",
       "      <td>34.0</td>\n",
       "      <td>92</td>\n",
       "      <td>1</td>\n",
       "      <td>4</td>\n",
       "    </tr>\n",
       "    <tr>\n",
       "      <th>1</th>\n",
       "      <td>5152.94000</td>\n",
       "      <td>492</td>\n",
       "      <td>0.000000</td>\n",
       "      <td>32.0</td>\n",
       "      <td>81</td>\n",
       "      <td>1</td>\n",
       "      <td>5</td>\n",
       "    </tr>\n",
       "    <tr>\n",
       "      <th>1</th>\n",
       "      <td>4538.55300</td>\n",
       "      <td>577</td>\n",
       "      <td>5.191877</td>\n",
       "      <td>29.0</td>\n",
       "      <td>95</td>\n",
       "      <td>1</td>\n",
       "      <td>3</td>\n",
       "    </tr>\n",
       "  </tbody>\n",
       "</table>\n",
       "</div>"
      ],
      "text/plain": [
       "                player_dist_walk  player_dmg  player_dist_ride  \\\n",
       "team_placement                                                   \n",
       "1                     1734.04260         616        989.995700   \n",
       "1                     5994.73633         508       5066.445310   \n",
       "1                     4062.22339         488       2261.395260   \n",
       "1                     5152.94000         492          0.000000   \n",
       "1                     4538.55300         577          5.191877   \n",
       "\n",
       "                player_survive_time  game_size party_size  player_kills  \n",
       "team_placement                                                           \n",
       "1                              31.0         97          1             7  \n",
       "1                              36.0         97          1             5  \n",
       "1                              34.0         92          1             4  \n",
       "1                              32.0         81          1             5  \n",
       "1                              29.0         95          1             3  "
      ]
     },
     "execution_count": 13,
     "metadata": {},
     "output_type": "execute_result"
    }
   ],
   "source": [
    "df_solo.head() #Inspecting results"
   ]
  },
  {
   "cell_type": "code",
   "execution_count": 14,
   "metadata": {},
   "outputs": [
    {
     "data": {
      "text/html": [
       "<div>\n",
       "<style scoped>\n",
       "    .dataframe tbody tr th:only-of-type {\n",
       "        vertical-align: middle;\n",
       "    }\n",
       "\n",
       "    .dataframe tbody tr th {\n",
       "        vertical-align: top;\n",
       "    }\n",
       "\n",
       "    .dataframe thead th {\n",
       "        text-align: right;\n",
       "    }\n",
       "</style>\n",
       "<table border=\"1\" class=\"dataframe\">\n",
       "  <thead>\n",
       "    <tr style=\"text-align: right;\">\n",
       "      <th></th>\n",
       "      <th>player_dist_walk</th>\n",
       "      <th>player_dmg</th>\n",
       "      <th>player_dist_ride</th>\n",
       "      <th>player_survive_time</th>\n",
       "      <th>game_size</th>\n",
       "      <th>player_kills</th>\n",
       "    </tr>\n",
       "  </thead>\n",
       "  <tbody>\n",
       "    <tr>\n",
       "      <th>count</th>\n",
       "      <td>3233.000000</td>\n",
       "      <td>3233.000000</td>\n",
       "      <td>3233.000000</td>\n",
       "      <td>3233.000000</td>\n",
       "      <td>3233.000000</td>\n",
       "      <td>3233.000000</td>\n",
       "    </tr>\n",
       "    <tr>\n",
       "      <th>mean</th>\n",
       "      <td>2110.875000</td>\n",
       "      <td>169.138571</td>\n",
       "      <td>1726.992865</td>\n",
       "      <td>18.277451</td>\n",
       "      <td>91.781008</td>\n",
       "      <td>1.409217</td>\n",
       "    </tr>\n",
       "    <tr>\n",
       "      <th>std</th>\n",
       "      <td>12551.506433</td>\n",
       "      <td>208.667252</td>\n",
       "      <td>2727.340501</td>\n",
       "      <td>7.189921</td>\n",
       "      <td>7.485815</td>\n",
       "      <td>2.034176</td>\n",
       "    </tr>\n",
       "    <tr>\n",
       "      <th>min</th>\n",
       "      <td>32.661670</td>\n",
       "      <td>0.000000</td>\n",
       "      <td>0.000000</td>\n",
       "      <td>2.000000</td>\n",
       "      <td>58.000000</td>\n",
       "      <td>0.000000</td>\n",
       "    </tr>\n",
       "    <tr>\n",
       "      <th>25%</th>\n",
       "      <td>1054.521120</td>\n",
       "      <td>25.000000</td>\n",
       "      <td>0.000000</td>\n",
       "      <td>12.000000</td>\n",
       "      <td>91.000000</td>\n",
       "      <td>0.000000</td>\n",
       "    </tr>\n",
       "    <tr>\n",
       "      <th>50%</th>\n",
       "      <td>1686.188720</td>\n",
       "      <td>108.000000</td>\n",
       "      <td>926.895900</td>\n",
       "      <td>18.000000</td>\n",
       "      <td>94.000000</td>\n",
       "      <td>1.000000</td>\n",
       "    </tr>\n",
       "    <tr>\n",
       "      <th>75%</th>\n",
       "      <td>2585.131840</td>\n",
       "      <td>233.000000</td>\n",
       "      <td>2818.536130</td>\n",
       "      <td>24.000000</td>\n",
       "      <td>96.000000</td>\n",
       "      <td>2.000000</td>\n",
       "    </tr>\n",
       "    <tr>\n",
       "      <th>max</th>\n",
       "      <td>712870.563000</td>\n",
       "      <td>3401.000000</td>\n",
       "      <td>100982.023000</td>\n",
       "      <td>36.000000</td>\n",
       "      <td>99.000000</td>\n",
       "      <td>36.000000</td>\n",
       "    </tr>\n",
       "  </tbody>\n",
       "</table>\n",
       "</div>"
      ],
      "text/plain": [
       "       player_dist_walk   player_dmg  player_dist_ride  player_survive_time  \\\n",
       "count       3233.000000  3233.000000       3233.000000          3233.000000   \n",
       "mean        2110.875000   169.138571       1726.992865            18.277451   \n",
       "std        12551.506433   208.667252       2727.340501             7.189921   \n",
       "min           32.661670     0.000000          0.000000             2.000000   \n",
       "25%         1054.521120    25.000000          0.000000            12.000000   \n",
       "50%         1686.188720   108.000000        926.895900            18.000000   \n",
       "75%         2585.131840   233.000000       2818.536130            24.000000   \n",
       "max       712870.563000  3401.000000     100982.023000            36.000000   \n",
       "\n",
       "         game_size  player_kills  \n",
       "count  3233.000000   3233.000000  \n",
       "mean     91.781008      1.409217  \n",
       "std       7.485815      2.034176  \n",
       "min      58.000000      0.000000  \n",
       "25%      91.000000      0.000000  \n",
       "50%      94.000000      1.000000  \n",
       "75%      96.000000      2.000000  \n",
       "max      99.000000     36.000000  "
      ]
     },
     "execution_count": 14,
     "metadata": {},
     "output_type": "execute_result"
    }
   ],
   "source": [
    "df_solo.describe()"
   ]
  },
  {
   "cell_type": "code",
   "execution_count": 15,
   "metadata": {},
   "outputs": [
    {
     "data": {
      "text/html": [
       "<div>\n",
       "<style scoped>\n",
       "    .dataframe tbody tr th:only-of-type {\n",
       "        vertical-align: middle;\n",
       "    }\n",
       "\n",
       "    .dataframe tbody tr th {\n",
       "        vertical-align: top;\n",
       "    }\n",
       "\n",
       "    .dataframe thead th {\n",
       "        text-align: right;\n",
       "    }\n",
       "</style>\n",
       "<table border=\"1\" class=\"dataframe\">\n",
       "  <thead>\n",
       "    <tr style=\"text-align: right;\">\n",
       "      <th></th>\n",
       "      <th>player_dist_walk</th>\n",
       "      <th>player_dmg</th>\n",
       "      <th>player_dist_ride</th>\n",
       "      <th>player_survive_time</th>\n",
       "      <th>game_size</th>\n",
       "      <th>player_kills</th>\n",
       "    </tr>\n",
       "  </thead>\n",
       "  <tbody>\n",
       "    <tr>\n",
       "      <th>count</th>\n",
       "      <td>4134.000000</td>\n",
       "      <td>4134.000000</td>\n",
       "      <td>4134.000000</td>\n",
       "      <td>4134.000000</td>\n",
       "      <td>4134.000000</td>\n",
       "      <td>4134.000000</td>\n",
       "    </tr>\n",
       "    <tr>\n",
       "      <th>mean</th>\n",
       "      <td>2034.332371</td>\n",
       "      <td>180.631350</td>\n",
       "      <td>2148.764700</td>\n",
       "      <td>19.858732</td>\n",
       "      <td>46.648283</td>\n",
       "      <td>1.352201</td>\n",
       "    </tr>\n",
       "    <tr>\n",
       "      <th>std</th>\n",
       "      <td>1089.359719</td>\n",
       "      <td>200.554873</td>\n",
       "      <td>2217.866696</td>\n",
       "      <td>7.694498</td>\n",
       "      <td>4.164376</td>\n",
       "      <td>1.853789</td>\n",
       "    </tr>\n",
       "    <tr>\n",
       "      <th>min</th>\n",
       "      <td>5.058827</td>\n",
       "      <td>0.000000</td>\n",
       "      <td>0.000000</td>\n",
       "      <td>1.000000</td>\n",
       "      <td>31.000000</td>\n",
       "      <td>0.000000</td>\n",
       "    </tr>\n",
       "    <tr>\n",
       "      <th>25%</th>\n",
       "      <td>1266.485505</td>\n",
       "      <td>36.000000</td>\n",
       "      <td>0.000000</td>\n",
       "      <td>14.000000</td>\n",
       "      <td>46.000000</td>\n",
       "      <td>0.000000</td>\n",
       "    </tr>\n",
       "    <tr>\n",
       "      <th>50%</th>\n",
       "      <td>1933.588650</td>\n",
       "      <td>120.000000</td>\n",
       "      <td>1627.217345</td>\n",
       "      <td>21.000000</td>\n",
       "      <td>48.000000</td>\n",
       "      <td>1.000000</td>\n",
       "    </tr>\n",
       "    <tr>\n",
       "      <th>75%</th>\n",
       "      <td>2690.428710</td>\n",
       "      <td>253.000000</td>\n",
       "      <td>3586.614928</td>\n",
       "      <td>26.000000</td>\n",
       "      <td>49.000000</td>\n",
       "      <td>2.000000</td>\n",
       "    </tr>\n",
       "    <tr>\n",
       "      <th>max</th>\n",
       "      <td>8706.597000</td>\n",
       "      <td>2139.000000</td>\n",
       "      <td>14965.415000</td>\n",
       "      <td>36.000000</td>\n",
       "      <td>50.000000</td>\n",
       "      <td>19.000000</td>\n",
       "    </tr>\n",
       "  </tbody>\n",
       "</table>\n",
       "</div>"
      ],
      "text/plain": [
       "       player_dist_walk   player_dmg  player_dist_ride  player_survive_time  \\\n",
       "count       4134.000000  4134.000000       4134.000000          4134.000000   \n",
       "mean        2034.332371   180.631350       2148.764700            19.858732   \n",
       "std         1089.359719   200.554873       2217.866696             7.694498   \n",
       "min            5.058827     0.000000          0.000000             1.000000   \n",
       "25%         1266.485505    36.000000          0.000000            14.000000   \n",
       "50%         1933.588650   120.000000       1627.217345            21.000000   \n",
       "75%         2690.428710   253.000000       3586.614928            26.000000   \n",
       "max         8706.597000  2139.000000      14965.415000            36.000000   \n",
       "\n",
       "         game_size  player_kills  \n",
       "count  4134.000000   4134.000000  \n",
       "mean     46.648283      1.352201  \n",
       "std       4.164376      1.853789  \n",
       "min      31.000000      0.000000  \n",
       "25%      46.000000      0.000000  \n",
       "50%      48.000000      1.000000  \n",
       "75%      49.000000      2.000000  \n",
       "max      50.000000     19.000000  "
      ]
     },
     "execution_count": 15,
     "metadata": {},
     "output_type": "execute_result"
    }
   ],
   "source": [
    "df_duo.describe()"
   ]
  },
  {
   "cell_type": "code",
   "execution_count": 16,
   "metadata": {},
   "outputs": [
    {
     "data": {
      "text/html": [
       "<div>\n",
       "<style scoped>\n",
       "    .dataframe tbody tr th:only-of-type {\n",
       "        vertical-align: middle;\n",
       "    }\n",
       "\n",
       "    .dataframe tbody tr th {\n",
       "        vertical-align: top;\n",
       "    }\n",
       "\n",
       "    .dataframe thead th {\n",
       "        text-align: right;\n",
       "    }\n",
       "</style>\n",
       "<table border=\"1\" class=\"dataframe\">\n",
       "  <thead>\n",
       "    <tr style=\"text-align: right;\">\n",
       "      <th></th>\n",
       "      <th>player_dist_walk</th>\n",
       "      <th>player_dmg</th>\n",
       "      <th>player_dist_ride</th>\n",
       "      <th>player_survive_time</th>\n",
       "      <th>game_size</th>\n",
       "      <th>player_kills</th>\n",
       "    </tr>\n",
       "  </thead>\n",
       "  <tbody>\n",
       "    <tr>\n",
       "      <th>count</th>\n",
       "      <td>7640.000000</td>\n",
       "      <td>7640.000000</td>\n",
       "      <td>7640.000000</td>\n",
       "      <td>7640.000000</td>\n",
       "      <td>7640.000000</td>\n",
       "      <td>7640.000000</td>\n",
       "    </tr>\n",
       "    <tr>\n",
       "      <th>mean</th>\n",
       "      <td>2166.486343</td>\n",
       "      <td>176.224215</td>\n",
       "      <td>2237.186020</td>\n",
       "      <td>20.417670</td>\n",
       "      <td>26.623691</td>\n",
       "      <td>1.262827</td>\n",
       "    </tr>\n",
       "    <tr>\n",
       "      <th>std</th>\n",
       "      <td>1209.522845</td>\n",
       "      <td>214.881170</td>\n",
       "      <td>2190.332319</td>\n",
       "      <td>8.384638</td>\n",
       "      <td>2.255366</td>\n",
       "      <td>1.960009</td>\n",
       "    </tr>\n",
       "    <tr>\n",
       "      <th>min</th>\n",
       "      <td>5.164915</td>\n",
       "      <td>0.000000</td>\n",
       "      <td>0.000000</td>\n",
       "      <td>1.000000</td>\n",
       "      <td>13.000000</td>\n",
       "      <td>0.000000</td>\n",
       "    </tr>\n",
       "    <tr>\n",
       "      <th>25%</th>\n",
       "      <td>1321.044312</td>\n",
       "      <td>26.000000</td>\n",
       "      <td>0.000000</td>\n",
       "      <td>15.000000</td>\n",
       "      <td>26.000000</td>\n",
       "      <td>0.000000</td>\n",
       "    </tr>\n",
       "    <tr>\n",
       "      <th>50%</th>\n",
       "      <td>2151.575355</td>\n",
       "      <td>107.000000</td>\n",
       "      <td>1847.111085</td>\n",
       "      <td>22.000000</td>\n",
       "      <td>27.000000</td>\n",
       "      <td>1.000000</td>\n",
       "    </tr>\n",
       "    <tr>\n",
       "      <th>75%</th>\n",
       "      <td>2956.039192</td>\n",
       "      <td>247.000000</td>\n",
       "      <td>3659.480715</td>\n",
       "      <td>27.000000</td>\n",
       "      <td>28.000000</td>\n",
       "      <td>2.000000</td>\n",
       "    </tr>\n",
       "    <tr>\n",
       "      <th>max</th>\n",
       "      <td>10131.579100</td>\n",
       "      <td>3956.000000</td>\n",
       "      <td>14799.857400</td>\n",
       "      <td>36.000000</td>\n",
       "      <td>32.000000</td>\n",
       "      <td>42.000000</td>\n",
       "    </tr>\n",
       "  </tbody>\n",
       "</table>\n",
       "</div>"
      ],
      "text/plain": [
       "       player_dist_walk   player_dmg  player_dist_ride  player_survive_time  \\\n",
       "count       7640.000000  7640.000000       7640.000000          7640.000000   \n",
       "mean        2166.486343   176.224215       2237.186020            20.417670   \n",
       "std         1209.522845   214.881170       2190.332319             8.384638   \n",
       "min            5.164915     0.000000          0.000000             1.000000   \n",
       "25%         1321.044312    26.000000          0.000000            15.000000   \n",
       "50%         2151.575355   107.000000       1847.111085            22.000000   \n",
       "75%         2956.039192   247.000000       3659.480715            27.000000   \n",
       "max        10131.579100  3956.000000      14799.857400            36.000000   \n",
       "\n",
       "         game_size  player_kills  \n",
       "count  7640.000000   7640.000000  \n",
       "mean     26.623691      1.262827  \n",
       "std       2.255366      1.960009  \n",
       "min      13.000000      0.000000  \n",
       "25%      26.000000      0.000000  \n",
       "50%      27.000000      1.000000  \n",
       "75%      28.000000      2.000000  \n",
       "max      32.000000     42.000000  "
      ]
     },
     "execution_count": 16,
     "metadata": {},
     "output_type": "execute_result"
    }
   ],
   "source": [
    "df_squad.describe()"
   ]
  },
  {
   "cell_type": "code",
   "execution_count": 17,
   "metadata": {},
   "outputs": [
    {
     "name": "stdout",
     "output_type": "stream",
     "text": [
      "<class 'pandas.core.frame.DataFrame'>\n",
      "Int64Index: 7640 entries, 1 to 13\n",
      "Data columns (total 7 columns):\n",
      "player_dist_walk       7640 non-null float64\n",
      "player_dmg             7640 non-null int64\n",
      "player_dist_ride       7640 non-null float64\n",
      "player_survive_time    7640 non-null float64\n",
      "game_size              7640 non-null int64\n",
      "party_size             7640 non-null category\n",
      "player_kills           7640 non-null int64\n",
      "dtypes: category(1), float64(3), int64(3)\n",
      "memory usage: 425.4 KB\n"
     ]
    }
   ],
   "source": [
    "df_squad.info() #Data types appear correct, no missing values seen"
   ]
  },
  {
   "cell_type": "code",
   "execution_count": 41,
   "metadata": {},
   "outputs": [],
   "source": [
    "df_solo.to_csv('dfsolo.csv', sep=',')\n",
    "df_duo.to_csv('dfduo.csv', sep=',')\n",
    "df_squad.to_csv('dfsquad.csv', sep=',')"
   ]
  },
  {
   "cell_type": "code",
   "execution_count": 44,
   "metadata": {},
   "outputs": [
    {
     "name": "stderr",
     "output_type": "stream",
     "text": [
      "C:\\Users\\Ameen\\Miniconda3\\lib\\site-packages\\ipykernel_launcher.py:8: SettingWithCopyWarning: \n",
      "A value is trying to be set on a copy of a slice from a DataFrame.\n",
      "Try using .loc[row_indexer,col_indexer] = value instead\n",
      "\n",
      "See the caveats in the documentation: http://pandas.pydata.org/pandas-docs/stable/indexing.html#indexing-view-versus-copy\n",
      "  \n"
     ]
    }
   ],
   "source": [
    "#Created this larger data set to make a balanced dataset for my logistic regression \n",
    "#model in part 4, where the labels are first place, and not first place. \n",
    "\n",
    "extra_data = f[['player_dist_walk', 'player_dmg', 'team_placement', 'player_dist_ride', \n",
    "       'player_survive_time', 'game_size', 'party_size', 'player_kills']]\n",
    "extra_data = f[(f['player_dist_walk'] > 5)] \n",
    "extra_data = f[(f['player_survive_time'] > 10)]\n",
    "extra_data['player_survive_time'] = extra_data['player_survive_time'] // 60 \n",
    "extra_data = extra_data[(extra_data['party_size'] == 1)]\n",
    "\n"
   ]
  },
  {
   "cell_type": "code",
   "execution_count": 45,
   "metadata": {},
   "outputs": [],
   "source": [
    "extra_data.to_csv('extra_data.csv', sep=',')\n"
   ]
  }
 ],
 "metadata": {
  "kernelspec": {
   "display_name": "Python 3",
   "language": "python",
   "name": "python3"
  },
  "language_info": {
   "codemirror_mode": {
    "name": "ipython",
    "version": 3
   },
   "file_extension": ".py",
   "mimetype": "text/x-python",
   "name": "python",
   "nbconvert_exporter": "python",
   "pygments_lexer": "ipython3",
   "version": "3.6.6"
  }
 },
 "nbformat": 4,
 "nbformat_minor": 2
}
