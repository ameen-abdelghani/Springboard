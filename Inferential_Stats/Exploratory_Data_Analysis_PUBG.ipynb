{
 "cells": [
  {
   "cell_type": "code",
   "execution_count": 1,
   "metadata": {},
   "outputs": [],
   "source": [
    "import pandas as pd\n",
    "import numpy as np\n",
    "from scipy import stats\n",
    "import statsmodels\n",
    "import statsmodels.api as sm\n",
    "import seaborn as sns\n",
    "import matplotlib.pyplot as plt"
   ]
  },
  {
   "cell_type": "code",
   "execution_count": 2,
   "metadata": {},
   "outputs": [],
   "source": [
    "df_solo1000 = pd.read_csv('df_solo1000.csv') #In a previous notebook, I divided the datasets into solo, duo, and squad mode, and downlaoded them as csv files.\n",
    "df_duo1000 = pd.read_csv('df_duo1000.csv')\n",
    "df_squad1000 = pd.read_csv('df_squad1000.csv')\n",
    "\n",
    "df_solo = pd.read_csv('df_solo.csv')"
   ]
  },
  {
   "cell_type": "code",
   "execution_count": 5,
   "metadata": {},
   "outputs": [],
   "source": [
    "df_duo = pd.read_csv('df_duo.csv')\n",
    "df_squad = pd.read_csv('df_squad.csv')"
   ]
  },
  {
   "cell_type": "code",
   "execution_count": 10,
   "metadata": {},
   "outputs": [
    {
     "name": "stderr",
     "output_type": "stream",
     "text": [
      "C:\\Users\\Ameen\\Miniconda3\\lib\\site-packages\\ipykernel_launcher.py:2: UserWarning: Boolean Series key will be reindexed to match DataFrame index.\n",
      "  \n"
     ]
    }
   ],
   "source": [
    "df_solo_top50 = df_solo[df_solo.team_placement < 50] \n",
    "df_duo_top25 = df_duo[df_squad.team_placement < 25]\n",
    "df_squad_top13 = df_squad[df_squad.team_placement > 13]"
   ]
  },
  {
   "cell_type": "code",
   "execution_count": 69,
   "metadata": {},
   "outputs": [
    {
     "data": {
      "text/plain": [
       "(7201035, 9)"
      ]
     },
     "execution_count": 69,
     "metadata": {},
     "output_type": "execute_result"
    }
   ],
   "source": [
    "df_solo_top50.shape\n"
   ]
  },
  {
   "cell_type": "code",
   "execution_count": 70,
   "metadata": {},
   "outputs": [
    {
     "data": {
      "text/plain": [
       "(18972889, 9)"
      ]
     },
     "execution_count": 70,
     "metadata": {},
     "output_type": "execute_result"
    }
   ],
   "source": [
    "df_duo_top25.shape\n"
   ]
  },
  {
   "cell_type": "code",
   "execution_count": 71,
   "metadata": {},
   "outputs": [
    {
     "data": {
      "text/plain": [
       "(15669568, 9)"
      ]
     },
     "execution_count": 71,
     "metadata": {},
     "output_type": "execute_result"
    }
   ],
   "source": [
    "df_squad_top13.shape"
   ]
  },
  {
   "cell_type": "markdown",
   "metadata": {},
   "source": [
    "^^^ Realized I needed to narrow down the datasets to only the top half of team placements in a match. In the average match, half of the players are eliminated within the first 3 minutes. Therefore the most insights can be gained from the top half of players.\n",
    "\n",
    "The data contains **no missing values**. It also contains **some outliers** which I have kept for this analysis."
   ]
  },
  {
   "cell_type": "markdown",
   "metadata": {},
   "source": [
    "## 1. Are there variables that are particularly significant in terms of explaining the answer to your project question?"
   ]
  },
  {
   "cell_type": "markdown",
   "metadata": {},
   "source": [
    "The underlying questions for my project are what variables positively correlate with winning a match Players Unknown Battleground. Winning in this game means being the last player / team standing. To increase threshold of victory we can consider it to be within the top 5 team placement. \n",
    "\n",
    "In my previous visualizations I've found that a player doing more damage and getting more kills is the strongest variable correlating with winning a match\n",
    "\n"
   ]
  },
  {
   "cell_type": "markdown",
   "metadata": {},
   "source": [
    "## 2. Are there strong correlations between pairs of independent variables or between an independent and a dependent variable?"
   ]
  },
  {
   "cell_type": "markdown",
   "metadata": {},
   "source": [
    "My mentor has told me that Pearson Correlation values above .4 or below -.4 are to be considered significant, anything in between those values are too close to 0, are thought to be weak correlations.\n",
    "\n",
    "When examining the correlations below, its important to remember when looking at the team placement variable that a negative correlation is a good thing, since the lower the team placement number translates into closer to victory (first place).\n",
    "\n",
    "Some noteworthy correlations for solo matches to the dependent variable (team placement) are: \n",
    "\n",
    "**Solo**\n",
    "\n",
    "1. Player Kills & Team Placement : -.39\n",
    "2. Player Distance Walked & Team Placement : -.09 \n",
    "3. Distance driven & team placement: -.3 \n",
    "\n",
    "I did not note independent variables that are highly correlated with one another already such as player kills and player damage. Player survival time and team placement is not an interesting high correlation because the trend is a given. \n",
    "\n",
    "**Duo**\n",
    "\n",
    "1. Player Kills & Team Placement : -.39\n",
    "2. Player Distance Walked & Team Placement : -.22 \n",
    "3. Distance driven & Team placement: -.52\n",
    "\n",
    "**Squad**\n",
    "\n",
    "1. Player Kills & Team Placement : -.144\n",
    "2. Player Distance Walked & Team Placement : -.11 \n",
    "3. Distance driven & Team placement: -.31"
   ]
  },
  {
   "cell_type": "code",
   "execution_count": 11,
   "metadata": {},
   "outputs": [
    {
     "data": {
      "text/html": [
       "<div>\n",
       "<style scoped>\n",
       "    .dataframe tbody tr th:only-of-type {\n",
       "        vertical-align: middle;\n",
       "    }\n",
       "\n",
       "    .dataframe tbody tr th {\n",
       "        vertical-align: top;\n",
       "    }\n",
       "\n",
       "    .dataframe thead th {\n",
       "        text-align: right;\n",
       "    }\n",
       "</style>\n",
       "<table border=\"1\" class=\"dataframe\">\n",
       "  <thead>\n",
       "    <tr style=\"text-align: right;\">\n",
       "      <th></th>\n",
       "      <th>Unnamed: 0</th>\n",
       "      <th>player_dist_walk</th>\n",
       "      <th>player_dmg</th>\n",
       "      <th>team_placement</th>\n",
       "      <th>player_dist_ride</th>\n",
       "      <th>player_survive_time</th>\n",
       "      <th>game_size</th>\n",
       "      <th>party_size</th>\n",
       "      <th>player_kills</th>\n",
       "    </tr>\n",
       "  </thead>\n",
       "  <tbody>\n",
       "    <tr>\n",
       "      <th>Unnamed: 0</th>\n",
       "      <td>1.000000</td>\n",
       "      <td>0.000769</td>\n",
       "      <td>-0.000065</td>\n",
       "      <td>-0.000033</td>\n",
       "      <td>0.000378</td>\n",
       "      <td>0.000594</td>\n",
       "      <td>0.002635</td>\n",
       "      <td>NaN</td>\n",
       "      <td>0.000125</td>\n",
       "    </tr>\n",
       "    <tr>\n",
       "      <th>player_dist_walk</th>\n",
       "      <td>0.000769</td>\n",
       "      <td>1.000000</td>\n",
       "      <td>0.044880</td>\n",
       "      <td>-0.090907</td>\n",
       "      <td>0.214439</td>\n",
       "      <td>0.103178</td>\n",
       "      <td>-0.001918</td>\n",
       "      <td>NaN</td>\n",
       "      <td>0.045845</td>\n",
       "    </tr>\n",
       "    <tr>\n",
       "      <th>player_dmg</th>\n",
       "      <td>-0.000065</td>\n",
       "      <td>0.044880</td>\n",
       "      <td>1.000000</td>\n",
       "      <td>-0.397385</td>\n",
       "      <td>0.123652</td>\n",
       "      <td>0.390272</td>\n",
       "      <td>0.039004</td>\n",
       "      <td>NaN</td>\n",
       "      <td>0.957013</td>\n",
       "    </tr>\n",
       "    <tr>\n",
       "      <th>team_placement</th>\n",
       "      <td>-0.000033</td>\n",
       "      <td>-0.090907</td>\n",
       "      <td>-0.397385</td>\n",
       "      <td>1.000000</td>\n",
       "      <td>-0.307040</td>\n",
       "      <td>-0.950002</td>\n",
       "      <td>-0.000705</td>\n",
       "      <td>NaN</td>\n",
       "      <td>-0.391351</td>\n",
       "    </tr>\n",
       "    <tr>\n",
       "      <th>player_dist_ride</th>\n",
       "      <td>0.000378</td>\n",
       "      <td>0.214439</td>\n",
       "      <td>0.123652</td>\n",
       "      <td>-0.307040</td>\n",
       "      <td>1.000000</td>\n",
       "      <td>0.304523</td>\n",
       "      <td>0.067480</td>\n",
       "      <td>NaN</td>\n",
       "      <td>0.109206</td>\n",
       "    </tr>\n",
       "    <tr>\n",
       "      <th>player_survive_time</th>\n",
       "      <td>0.000594</td>\n",
       "      <td>0.103178</td>\n",
       "      <td>0.390272</td>\n",
       "      <td>-0.950002</td>\n",
       "      <td>0.304523</td>\n",
       "      <td>1.000000</td>\n",
       "      <td>0.042183</td>\n",
       "      <td>NaN</td>\n",
       "      <td>0.382645</td>\n",
       "    </tr>\n",
       "    <tr>\n",
       "      <th>game_size</th>\n",
       "      <td>0.002635</td>\n",
       "      <td>-0.001918</td>\n",
       "      <td>0.039004</td>\n",
       "      <td>-0.000705</td>\n",
       "      <td>0.067480</td>\n",
       "      <td>0.042183</td>\n",
       "      <td>1.000000</td>\n",
       "      <td>NaN</td>\n",
       "      <td>0.034975</td>\n",
       "    </tr>\n",
       "    <tr>\n",
       "      <th>party_size</th>\n",
       "      <td>NaN</td>\n",
       "      <td>NaN</td>\n",
       "      <td>NaN</td>\n",
       "      <td>NaN</td>\n",
       "      <td>NaN</td>\n",
       "      <td>NaN</td>\n",
       "      <td>NaN</td>\n",
       "      <td>NaN</td>\n",
       "      <td>NaN</td>\n",
       "    </tr>\n",
       "    <tr>\n",
       "      <th>player_kills</th>\n",
       "      <td>0.000125</td>\n",
       "      <td>0.045845</td>\n",
       "      <td>0.957013</td>\n",
       "      <td>-0.391351</td>\n",
       "      <td>0.109206</td>\n",
       "      <td>0.382645</td>\n",
       "      <td>0.034975</td>\n",
       "      <td>NaN</td>\n",
       "      <td>1.000000</td>\n",
       "    </tr>\n",
       "  </tbody>\n",
       "</table>\n",
       "</div>"
      ],
      "text/plain": [
       "                     Unnamed: 0  player_dist_walk  player_dmg  team_placement  \\\n",
       "Unnamed: 0             1.000000          0.000769   -0.000065       -0.000033   \n",
       "player_dist_walk       0.000769          1.000000    0.044880       -0.090907   \n",
       "player_dmg            -0.000065          0.044880    1.000000       -0.397385   \n",
       "team_placement        -0.000033         -0.090907   -0.397385        1.000000   \n",
       "player_dist_ride       0.000378          0.214439    0.123652       -0.307040   \n",
       "player_survive_time    0.000594          0.103178    0.390272       -0.950002   \n",
       "game_size              0.002635         -0.001918    0.039004       -0.000705   \n",
       "party_size                  NaN               NaN         NaN             NaN   \n",
       "player_kills           0.000125          0.045845    0.957013       -0.391351   \n",
       "\n",
       "                     player_dist_ride  player_survive_time  game_size  \\\n",
       "Unnamed: 0                   0.000378             0.000594   0.002635   \n",
       "player_dist_walk             0.214439             0.103178  -0.001918   \n",
       "player_dmg                   0.123652             0.390272   0.039004   \n",
       "team_placement              -0.307040            -0.950002  -0.000705   \n",
       "player_dist_ride             1.000000             0.304523   0.067480   \n",
       "player_survive_time          0.304523             1.000000   0.042183   \n",
       "game_size                    0.067480             0.042183   1.000000   \n",
       "party_size                        NaN                  NaN        NaN   \n",
       "player_kills                 0.109206             0.382645   0.034975   \n",
       "\n",
       "                     party_size  player_kills  \n",
       "Unnamed: 0                  NaN      0.000125  \n",
       "player_dist_walk            NaN      0.045845  \n",
       "player_dmg                  NaN      0.957013  \n",
       "team_placement              NaN     -0.391351  \n",
       "player_dist_ride            NaN      0.109206  \n",
       "player_survive_time         NaN      0.382645  \n",
       "game_size                   NaN      0.034975  \n",
       "party_size                  NaN           NaN  \n",
       "player_kills                NaN      1.000000  "
      ]
     },
     "execution_count": 11,
     "metadata": {},
     "output_type": "execute_result"
    }
   ],
   "source": [
    "df_solo_top50.corr() #"
   ]
  },
  {
   "cell_type": "code",
   "execution_count": 12,
   "metadata": {},
   "outputs": [
    {
     "data": {
      "text/html": [
       "<div>\n",
       "<style scoped>\n",
       "    .dataframe tbody tr th:only-of-type {\n",
       "        vertical-align: middle;\n",
       "    }\n",
       "\n",
       "    .dataframe tbody tr th {\n",
       "        vertical-align: top;\n",
       "    }\n",
       "\n",
       "    .dataframe thead th {\n",
       "        text-align: right;\n",
       "    }\n",
       "</style>\n",
       "<table border=\"1\" class=\"dataframe\">\n",
       "  <thead>\n",
       "    <tr style=\"text-align: right;\">\n",
       "      <th></th>\n",
       "      <th>Unnamed: 0</th>\n",
       "      <th>player_dist_walk</th>\n",
       "      <th>player_dmg</th>\n",
       "      <th>team_placement</th>\n",
       "      <th>player_dist_ride</th>\n",
       "      <th>player_survive_time</th>\n",
       "      <th>game_size</th>\n",
       "      <th>party_size</th>\n",
       "      <th>player_kills</th>\n",
       "    </tr>\n",
       "  </thead>\n",
       "  <tbody>\n",
       "    <tr>\n",
       "      <th>Unnamed: 0</th>\n",
       "      <td>1.000000</td>\n",
       "      <td>-0.000116</td>\n",
       "      <td>-0.000013</td>\n",
       "      <td>-0.000304</td>\n",
       "      <td>-0.000207</td>\n",
       "      <td>-0.000514</td>\n",
       "      <td>-0.001866</td>\n",
       "      <td>NaN</td>\n",
       "      <td>-0.000043</td>\n",
       "    </tr>\n",
       "    <tr>\n",
       "      <th>player_dist_walk</th>\n",
       "      <td>-0.000116</td>\n",
       "      <td>1.000000</td>\n",
       "      <td>0.113032</td>\n",
       "      <td>-0.227065</td>\n",
       "      <td>0.265560</td>\n",
       "      <td>0.000951</td>\n",
       "      <td>-0.015680</td>\n",
       "      <td>NaN</td>\n",
       "      <td>0.107919</td>\n",
       "    </tr>\n",
       "    <tr>\n",
       "      <th>player_dmg</th>\n",
       "      <td>-0.000013</td>\n",
       "      <td>0.113032</td>\n",
       "      <td>1.000000</td>\n",
       "      <td>-0.414544</td>\n",
       "      <td>0.223666</td>\n",
       "      <td>-0.000073</td>\n",
       "      <td>0.000892</td>\n",
       "      <td>NaN</td>\n",
       "      <td>0.902247</td>\n",
       "    </tr>\n",
       "    <tr>\n",
       "      <th>team_placement</th>\n",
       "      <td>-0.000304</td>\n",
       "      <td>-0.227065</td>\n",
       "      <td>-0.414544</td>\n",
       "      <td>1.000000</td>\n",
       "      <td>-0.529029</td>\n",
       "      <td>-0.000313</td>\n",
       "      <td>0.119876</td>\n",
       "      <td>NaN</td>\n",
       "      <td>-0.389912</td>\n",
       "    </tr>\n",
       "    <tr>\n",
       "      <th>player_dist_ride</th>\n",
       "      <td>-0.000207</td>\n",
       "      <td>0.265560</td>\n",
       "      <td>0.223666</td>\n",
       "      <td>-0.529029</td>\n",
       "      <td>1.000000</td>\n",
       "      <td>0.001472</td>\n",
       "      <td>0.008010</td>\n",
       "      <td>NaN</td>\n",
       "      <td>0.197641</td>\n",
       "    </tr>\n",
       "    <tr>\n",
       "      <th>player_survive_time</th>\n",
       "      <td>-0.000514</td>\n",
       "      <td>0.000951</td>\n",
       "      <td>-0.000073</td>\n",
       "      <td>-0.000313</td>\n",
       "      <td>0.001472</td>\n",
       "      <td>1.000000</td>\n",
       "      <td>-0.000263</td>\n",
       "      <td>NaN</td>\n",
       "      <td>-0.000179</td>\n",
       "    </tr>\n",
       "    <tr>\n",
       "      <th>game_size</th>\n",
       "      <td>-0.001866</td>\n",
       "      <td>-0.015680</td>\n",
       "      <td>0.000892</td>\n",
       "      <td>0.119876</td>\n",
       "      <td>0.008010</td>\n",
       "      <td>-0.000263</td>\n",
       "      <td>1.000000</td>\n",
       "      <td>NaN</td>\n",
       "      <td>0.000705</td>\n",
       "    </tr>\n",
       "    <tr>\n",
       "      <th>party_size</th>\n",
       "      <td>NaN</td>\n",
       "      <td>NaN</td>\n",
       "      <td>NaN</td>\n",
       "      <td>NaN</td>\n",
       "      <td>NaN</td>\n",
       "      <td>NaN</td>\n",
       "      <td>NaN</td>\n",
       "      <td>NaN</td>\n",
       "      <td>NaN</td>\n",
       "    </tr>\n",
       "    <tr>\n",
       "      <th>player_kills</th>\n",
       "      <td>-0.000043</td>\n",
       "      <td>0.107919</td>\n",
       "      <td>0.902247</td>\n",
       "      <td>-0.389912</td>\n",
       "      <td>0.197641</td>\n",
       "      <td>-0.000179</td>\n",
       "      <td>0.000705</td>\n",
       "      <td>NaN</td>\n",
       "      <td>1.000000</td>\n",
       "    </tr>\n",
       "  </tbody>\n",
       "</table>\n",
       "</div>"
      ],
      "text/plain": [
       "                     Unnamed: 0  player_dist_walk  player_dmg  team_placement  \\\n",
       "Unnamed: 0             1.000000         -0.000116   -0.000013       -0.000304   \n",
       "player_dist_walk      -0.000116          1.000000    0.113032       -0.227065   \n",
       "player_dmg            -0.000013          0.113032    1.000000       -0.414544   \n",
       "team_placement        -0.000304         -0.227065   -0.414544        1.000000   \n",
       "player_dist_ride      -0.000207          0.265560    0.223666       -0.529029   \n",
       "player_survive_time   -0.000514          0.000951   -0.000073       -0.000313   \n",
       "game_size             -0.001866         -0.015680    0.000892        0.119876   \n",
       "party_size                  NaN               NaN         NaN             NaN   \n",
       "player_kills          -0.000043          0.107919    0.902247       -0.389912   \n",
       "\n",
       "                     player_dist_ride  player_survive_time  game_size  \\\n",
       "Unnamed: 0                  -0.000207            -0.000514  -0.001866   \n",
       "player_dist_walk             0.265560             0.000951  -0.015680   \n",
       "player_dmg                   0.223666            -0.000073   0.000892   \n",
       "team_placement              -0.529029            -0.000313   0.119876   \n",
       "player_dist_ride             1.000000             0.001472   0.008010   \n",
       "player_survive_time          0.001472             1.000000  -0.000263   \n",
       "game_size                    0.008010            -0.000263   1.000000   \n",
       "party_size                        NaN                  NaN        NaN   \n",
       "player_kills                 0.197641            -0.000179   0.000705   \n",
       "\n",
       "                     party_size  player_kills  \n",
       "Unnamed: 0                  NaN     -0.000043  \n",
       "player_dist_walk            NaN      0.107919  \n",
       "player_dmg                  NaN      0.902247  \n",
       "team_placement              NaN     -0.389912  \n",
       "player_dist_ride            NaN      0.197641  \n",
       "player_survive_time         NaN     -0.000179  \n",
       "game_size                   NaN      0.000705  \n",
       "party_size                  NaN           NaN  \n",
       "player_kills                NaN      1.000000  "
      ]
     },
     "execution_count": 12,
     "metadata": {},
     "output_type": "execute_result"
    }
   ],
   "source": [
    "df_duo_top25.corr()"
   ]
  },
  {
   "cell_type": "code",
   "execution_count": 13,
   "metadata": {},
   "outputs": [
    {
     "data": {
      "text/html": [
       "<div>\n",
       "<style scoped>\n",
       "    .dataframe tbody tr th:only-of-type {\n",
       "        vertical-align: middle;\n",
       "    }\n",
       "\n",
       "    .dataframe tbody tr th {\n",
       "        vertical-align: top;\n",
       "    }\n",
       "\n",
       "    .dataframe thead th {\n",
       "        text-align: right;\n",
       "    }\n",
       "</style>\n",
       "<table border=\"1\" class=\"dataframe\">\n",
       "  <thead>\n",
       "    <tr style=\"text-align: right;\">\n",
       "      <th></th>\n",
       "      <th>Unnamed: 0</th>\n",
       "      <th>player_dist_walk</th>\n",
       "      <th>player_dmg</th>\n",
       "      <th>team_placement</th>\n",
       "      <th>player_dist_ride</th>\n",
       "      <th>player_survive_time</th>\n",
       "      <th>game_size</th>\n",
       "      <th>party_size</th>\n",
       "      <th>player_kills</th>\n",
       "    </tr>\n",
       "  </thead>\n",
       "  <tbody>\n",
       "    <tr>\n",
       "      <th>Unnamed: 0</th>\n",
       "      <td>1.000000</td>\n",
       "      <td>-0.000114</td>\n",
       "      <td>0.000091</td>\n",
       "      <td>-0.000086</td>\n",
       "      <td>0.000166</td>\n",
       "      <td>0.000903</td>\n",
       "      <td>-0.000560</td>\n",
       "      <td>NaN</td>\n",
       "      <td>-0.000087</td>\n",
       "    </tr>\n",
       "    <tr>\n",
       "      <th>player_dist_walk</th>\n",
       "      <td>-0.000114</td>\n",
       "      <td>1.000000</td>\n",
       "      <td>0.033357</td>\n",
       "      <td>-0.111253</td>\n",
       "      <td>0.207823</td>\n",
       "      <td>0.001230</td>\n",
       "      <td>0.006574</td>\n",
       "      <td>NaN</td>\n",
       "      <td>0.026674</td>\n",
       "    </tr>\n",
       "    <tr>\n",
       "      <th>player_dmg</th>\n",
       "      <td>0.000091</td>\n",
       "      <td>0.033357</td>\n",
       "      <td>1.000000</td>\n",
       "      <td>-0.170849</td>\n",
       "      <td>0.037204</td>\n",
       "      <td>-0.000447</td>\n",
       "      <td>0.012693</td>\n",
       "      <td>NaN</td>\n",
       "      <td>0.792028</td>\n",
       "    </tr>\n",
       "    <tr>\n",
       "      <th>team_placement</th>\n",
       "      <td>-0.000086</td>\n",
       "      <td>-0.111253</td>\n",
       "      <td>-0.170849</td>\n",
       "      <td>1.000000</td>\n",
       "      <td>-0.312411</td>\n",
       "      <td>-0.000582</td>\n",
       "      <td>0.207275</td>\n",
       "      <td>NaN</td>\n",
       "      <td>-0.144589</td>\n",
       "    </tr>\n",
       "    <tr>\n",
       "      <th>player_dist_ride</th>\n",
       "      <td>0.000166</td>\n",
       "      <td>0.207823</td>\n",
       "      <td>0.037204</td>\n",
       "      <td>-0.312411</td>\n",
       "      <td>1.000000</td>\n",
       "      <td>0.004541</td>\n",
       "      <td>0.038716</td>\n",
       "      <td>NaN</td>\n",
       "      <td>0.010118</td>\n",
       "    </tr>\n",
       "    <tr>\n",
       "      <th>player_survive_time</th>\n",
       "      <td>0.000903</td>\n",
       "      <td>0.001230</td>\n",
       "      <td>-0.000447</td>\n",
       "      <td>-0.000582</td>\n",
       "      <td>0.004541</td>\n",
       "      <td>1.000000</td>\n",
       "      <td>-0.000819</td>\n",
       "      <td>NaN</td>\n",
       "      <td>-0.000315</td>\n",
       "    </tr>\n",
       "    <tr>\n",
       "      <th>game_size</th>\n",
       "      <td>-0.000560</td>\n",
       "      <td>0.006574</td>\n",
       "      <td>0.012693</td>\n",
       "      <td>0.207275</td>\n",
       "      <td>0.038716</td>\n",
       "      <td>-0.000819</td>\n",
       "      <td>1.000000</td>\n",
       "      <td>NaN</td>\n",
       "      <td>0.012449</td>\n",
       "    </tr>\n",
       "    <tr>\n",
       "      <th>party_size</th>\n",
       "      <td>NaN</td>\n",
       "      <td>NaN</td>\n",
       "      <td>NaN</td>\n",
       "      <td>NaN</td>\n",
       "      <td>NaN</td>\n",
       "      <td>NaN</td>\n",
       "      <td>NaN</td>\n",
       "      <td>NaN</td>\n",
       "      <td>NaN</td>\n",
       "    </tr>\n",
       "    <tr>\n",
       "      <th>player_kills</th>\n",
       "      <td>-0.000087</td>\n",
       "      <td>0.026674</td>\n",
       "      <td>0.792028</td>\n",
       "      <td>-0.144589</td>\n",
       "      <td>0.010118</td>\n",
       "      <td>-0.000315</td>\n",
       "      <td>0.012449</td>\n",
       "      <td>NaN</td>\n",
       "      <td>1.000000</td>\n",
       "    </tr>\n",
       "  </tbody>\n",
       "</table>\n",
       "</div>"
      ],
      "text/plain": [
       "                     Unnamed: 0  player_dist_walk  player_dmg  team_placement  \\\n",
       "Unnamed: 0             1.000000         -0.000114    0.000091       -0.000086   \n",
       "player_dist_walk      -0.000114          1.000000    0.033357       -0.111253   \n",
       "player_dmg             0.000091          0.033357    1.000000       -0.170849   \n",
       "team_placement        -0.000086         -0.111253   -0.170849        1.000000   \n",
       "player_dist_ride       0.000166          0.207823    0.037204       -0.312411   \n",
       "player_survive_time    0.000903          0.001230   -0.000447       -0.000582   \n",
       "game_size             -0.000560          0.006574    0.012693        0.207275   \n",
       "party_size                  NaN               NaN         NaN             NaN   \n",
       "player_kills          -0.000087          0.026674    0.792028       -0.144589   \n",
       "\n",
       "                     player_dist_ride  player_survive_time  game_size  \\\n",
       "Unnamed: 0                   0.000166             0.000903  -0.000560   \n",
       "player_dist_walk             0.207823             0.001230   0.006574   \n",
       "player_dmg                   0.037204            -0.000447   0.012693   \n",
       "team_placement              -0.312411            -0.000582   0.207275   \n",
       "player_dist_ride             1.000000             0.004541   0.038716   \n",
       "player_survive_time          0.004541             1.000000  -0.000819   \n",
       "game_size                    0.038716            -0.000819   1.000000   \n",
       "party_size                        NaN                  NaN        NaN   \n",
       "player_kills                 0.010118            -0.000315   0.012449   \n",
       "\n",
       "                     party_size  player_kills  \n",
       "Unnamed: 0                  NaN     -0.000087  \n",
       "player_dist_walk            NaN      0.026674  \n",
       "player_dmg                  NaN      0.792028  \n",
       "team_placement              NaN     -0.144589  \n",
       "player_dist_ride            NaN      0.010118  \n",
       "player_survive_time         NaN     -0.000315  \n",
       "game_size                   NaN      0.012449  \n",
       "party_size                  NaN           NaN  \n",
       "player_kills                NaN      1.000000  "
      ]
     },
     "execution_count": 13,
     "metadata": {},
     "output_type": "execute_result"
    }
   ],
   "source": [
    "df_squad_top13.corr()"
   ]
  },
  {
   "cell_type": "markdown",
   "metadata": {},
   "source": [
    "## 3. What are the most appropriate tests to use to analyse these relationships"
   ]
  },
  {
   "cell_type": "markdown",
   "metadata": {},
   "source": [
    "The player kills varaible appears to be somewhat normally distrubuted but heavily skewed to the right"
   ]
  },
  {
   "cell_type": "code",
   "execution_count": 36,
   "metadata": {},
   "outputs": [
    {
     "name": "stderr",
     "output_type": "stream",
     "text": [
      "C:\\Users\\Ameen\\Miniconda3\\lib\\site-packages\\matplotlib\\axes\\_axes.py:6462: UserWarning: The 'normed' kwarg is deprecated, and has been replaced by the 'density' kwarg.\n",
      "  warnings.warn(\"The 'normed' kwarg is deprecated, and has been \"\n",
      "C:\\Users\\Ameen\\Miniconda3\\lib\\site-packages\\matplotlib\\axes\\_axes.py:6462: UserWarning: The 'normed' kwarg is deprecated, and has been replaced by the 'density' kwarg.\n",
      "  warnings.warn(\"The 'normed' kwarg is deprecated, and has been \"\n",
      "C:\\Users\\Ameen\\Miniconda3\\lib\\site-packages\\matplotlib\\axes\\_axes.py:6462: UserWarning: The 'normed' kwarg is deprecated, and has been replaced by the 'density' kwarg.\n",
      "  warnings.warn(\"The 'normed' kwarg is deprecated, and has been \"\n"
     ]
    },
    {
     "data": {
      "text/plain": [
       "<matplotlib.axes._subplots.AxesSubplot at 0x1b6a51cf9e8>"
      ]
     },
     "execution_count": 36,
     "metadata": {},
     "output_type": "execute_result"
    },
    {
     "data": {
      "image/png": "[encoded data removed]",
      "text/plain": [
       "<Figure size 432x288 with 3 Axes>"
      ]
     },
     "metadata": {},
     "output_type": "display_data"
    }
   ],
   "source": [
    "plt.subplot(1, 3, 1)\n",
    "plt.xlim(0,10)\n",
    "sns.distplot(df_solo_top50.player_kills, hist=True)\n",
    "plt.title('Solo')\n",
    "\n",
    "plt.subplot(1, 3, 2)\n",
    "plt.xlim(0,10)\n",
    "plt.title('Duo')\n",
    "\n",
    "sns.distplot(df_duo_top50.player_kills, hist=True)\n",
    "\n",
    "plt.subplot(1, 3, 3)\n",
    "plt.xlim(0,10)\n",
    "plt.title('Squad')\n",
    "\n",
    "sns.distplot(df_squad_top13.player_kills, hist=True)\n"
   ]
  },
  {
   "cell_type": "markdown",
   "metadata": {},
   "source": [
    "Distance Driven appears to be normally distruted"
   ]
  },
  {
   "cell_type": "code",
   "execution_count": 98,
   "metadata": {},
   "outputs": [
    {
     "name": "stderr",
     "output_type": "stream",
     "text": [
      "C:\\Users\\Ameen\\Miniconda3\\lib\\site-packages\\matplotlib\\axes\\_axes.py:6462: UserWarning: The 'normed' kwarg is deprecated, and has been replaced by the 'density' kwarg.\n",
      "  warnings.warn(\"The 'normed' kwarg is deprecated, and has been \"\n"
     ]
    },
    {
     "data": {
      "text/plain": [
       "(0, 2e-05)"
      ]
     },
     "execution_count": 98,
     "metadata": {},
     "output_type": "execute_result"
    },
    {
     "data": {
      "image/png": "[encoded data removed]",
      "text/plain": [
       "<Figure size 432x288 with 1 Axes>"
      ]
     },
     "metadata": {},
     "output_type": "display_data"
    }
   ],
   "source": [
    "sns.distplot(df_solo_top50.player_dist_ride)\n",
    "plt.title('Solo Distance Driven')\n",
    "plt.xlim(0,13000)\n",
    "plt.ylim(0, .00002)\n"
   ]
  },
  {
   "cell_type": "code",
   "execution_count": 97,
   "metadata": {},
   "outputs": [
    {
     "name": "stderr",
     "output_type": "stream",
     "text": [
      "C:\\Users\\Ameen\\Miniconda3\\lib\\site-packages\\matplotlib\\axes\\_axes.py:6462: UserWarning: The 'normed' kwarg is deprecated, and has been replaced by the 'density' kwarg.\n",
      "  warnings.warn(\"The 'normed' kwarg is deprecated, and has been \"\n"
     ]
    },
    {
     "data": {
      "text/plain": [
       "<matplotlib.axes._subplots.AxesSubplot at 0x1b761cf6518>"
      ]
     },
     "execution_count": 97,
     "metadata": {},
     "output_type": "execute_result"
    },
    {
     "data": {
      "image/png": "[encoded data removed]",
      "text/plain": [
       "<Figure size 432x288 with 1 Axes>"
      ]
     },
     "metadata": {},
     "output_type": "display_data"
    }
   ],
   "source": [
    "plt.title('Duo Distance Driven')\n",
    "plt.xlim(0,20000)\n",
    "plt.ylim(0, .000005)\n",
    "\n",
    "sns.distplot(df_duo_top50.player_dist_ride)"
   ]
  },
  {
   "cell_type": "code",
   "execution_count": 96,
   "metadata": {},
   "outputs": [
    {
     "name": "stderr",
     "output_type": "stream",
     "text": [
      "C:\\Users\\Ameen\\Miniconda3\\lib\\site-packages\\matplotlib\\axes\\_axes.py:6462: UserWarning: The 'normed' kwarg is deprecated, and has been replaced by the 'density' kwarg.\n",
      "  warnings.warn(\"The 'normed' kwarg is deprecated, and has been \"\n"
     ]
    },
    {
     "data": {
      "text/plain": [
       "<matplotlib.axes._subplots.AxesSubplot at 0x1b761c88390>"
      ]
     },
     "execution_count": 96,
     "metadata": {},
     "output_type": "execute_result"
    },
    {
     "data": {
      "image/png": "[encoded data removed]",
      "text/plain": [
       "<Figure size 432x288 with 1 Axes>"
      ]
     },
     "metadata": {},
     "output_type": "display_data"
    }
   ],
   "source": [
    "plt.title('Squad Distance Driven')\n",
    "plt.xlim(0,15000)\n",
    "plt.ylim(0, .0000025)\n",
    "\n",
    "sns.distplot(df_squad_top13.player_dist_ride)"
   ]
  },
  {
   "cell_type": "code",
   "execution_count": null,
   "metadata": {},
   "outputs": [],
   "source": []
  },
  {
   "cell_type": "code",
   "execution_count": 95,
   "metadata": {},
   "outputs": [
    {
     "name": "stderr",
     "output_type": "stream",
     "text": [
      "C:\\Users\\Ameen\\Miniconda3\\lib\\site-packages\\matplotlib\\axes\\_axes.py:6462: UserWarning: The 'normed' kwarg is deprecated, and has been replaced by the 'density' kwarg.\n",
      "  warnings.warn(\"The 'normed' kwarg is deprecated, and has been \"\n"
     ]
    },
    {
     "data": {
      "text/plain": [
       "<matplotlib.axes._subplots.AxesSubplot at 0x1b761c57630>"
      ]
     },
     "execution_count": 95,
     "metadata": {},
     "output_type": "execute_result"
    },
    {
     "data": {
      "image/png": "[encoded data removed]",
      "text/plain": [
       "<Figure size 432x288 with 1 Axes>"
      ]
     },
     "metadata": {},
     "output_type": "display_data"
    }
   ],
   "source": [
    "plt.xlim(0, 5000)\n",
    "plt.title('Squad Distance Walked')\n",
    "sns.distplot(df_squad_top13.player_dist_walk[:1000])"
   ]
  },
  {
   "cell_type": "code",
   "execution_count": null,
   "metadata": {},
   "outputs": [],
   "source": []
  },
  {
   "cell_type": "code",
   "execution_count": null,
   "metadata": {},
   "outputs": [],
   "source": []
  },
  {
   "cell_type": "code",
   "execution_count": 20,
   "metadata": {},
   "outputs": [
    {
     "data": {
      "text/plain": [
       "Ttest_indResult(statistic=-695.8584664065725, pvalue=0.0)"
      ]
     },
     "execution_count": 20,
     "metadata": {},
     "output_type": "execute_result"
    }
   ],
   "source": [
    "stats.ttest_ind(df_solo_top50.player_kills, df_solo1000.team_placement)  #The two variables are indefintely correlated"
   ]
  },
  {
   "cell_type": "code",
   "execution_count": 15,
   "metadata": {},
   "outputs": [
    {
     "data": {
      "text/plain": [
       "Ttest_indResult(statistic=17.55768650275415, pvalue=2.718851850678828e-64)"
      ]
     },
     "execution_count": 15,
     "metadata": {},
     "output_type": "execute_result"
    }
   ],
   "source": [
    "stats.ttest_ind(df_solo1000.player_dist_ride, df_solo1000.player_survive_time) \n",
    "\n",
    "#Using vehicles defintely increases a players survival time\n",
    "#Many players avoid vehicles to avoid having attention brought to them, hoping this will keep them alive"
   ]
  },
  {
   "cell_type": "markdown",
   "metadata": {},
   "source": [
    "I'd like to examine the range of stats for all of the first place players in solo matches."
   ]
  },
  {
   "cell_type": "code",
   "execution_count": 23,
   "metadata": {},
   "outputs": [],
   "source": [
    "firstplace = df_solo[df_solo.team_placement == 1]\n",
    "\n",
    "def bootstrap_replicate_1d(data, func):\n",
    "    return func(np.random.choice(data, size=len(data)))\n",
    "\n",
    "def draw_bs_reps(data, func, size=1):\n",
    "    \"\"\"Draw bootstrap replicates.\"\"\"\n",
    "\n",
    "    # Initialize array of replicates: bs_replicates\n",
    "    bs_replicates = np.empty(size)\n",
    "\n",
    "    # Generate replicates\n",
    "    for i in range(size):\n",
    "        bs_replicates[i] = bootstrap_replicate_1d(data, func)\n",
    "\n",
    "    return bs_replicates"
   ]
  },
  {
   "cell_type": "code",
   "execution_count": 30,
   "metadata": {},
   "outputs": [
    {
     "name": "stdout",
     "output_type": "stream",
     "text": [
      "Confidence Interval: [6.94742282 6.99468351]\n",
      "Mean 6.970885627729473\n"
     ]
    }
   ],
   "source": [
    "bs_temp = draw_bs_reps(firstplace.player_kills, np.mean, size=1000)\n",
    "bs_temp_percentile = np.percentile(bs_temp, (2.5, 97.5))\n",
    "print('Confidence Interval:', bs_temp_percentile)\n",
    "print('Mean', np.mean(firstplace.player_kills))"
   ]
  },
  {
   "cell_type": "code",
   "execution_count": 32,
   "metadata": {},
   "outputs": [
    {
     "name": "stdout",
     "output_type": "stream",
     "text": [
      "Confidence Interval: [3.58724136 3.61285905]\n",
      "Mean: 3.599950125015586\n"
     ]
    }
   ],
   "source": [
    "secondplace = df_solo[df_solo.team_placement == 2]\n",
    "\n",
    "bs_temp2 = draw_bs_reps(secondplace.player_kills, np.mean, size=1000)\n",
    "bs_temp_percentile2 = np.percentile(bs_temp2, (2.5, 97.5))\n",
    "print('Confidence Interval:', bs_temp_percentile2)\n",
    "print('Mean:', np.mean(secondplace.player_kills))"
   ]
  },
  {
   "cell_type": "markdown",
   "metadata": {},
   "source": [
    "When conducting a bootstrap sampling test 1000 times, we cans see that the mean difference in first and second place is consistently 3-4 kills greater."
   ]
  },
  {
   "cell_type": "code",
   "execution_count": null,
   "metadata": {},
   "outputs": [],
   "source": []
  }
 ],
 "metadata": {
  "kernelspec": {
   "display_name": "Python 3",
   "language": "python",
   "name": "python3"
  },
  "language_info": {
   "codemirror_mode": {
    "name": "ipython",
    "version": 3
   },
   "file_extension": ".py",
   "mimetype": "text/x-python",
   "name": "python",
   "nbconvert_exporter": "python",
   "pygments_lexer": "ipython3",
   "version": "3.6.4"
  }
 },
 "nbformat": 4,
 "nbformat_minor": 2
}
